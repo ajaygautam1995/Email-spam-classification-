{
 "cells": [
  {
   "cell_type": "markdown",
   "metadata": {},
   "source": [
    "# EMAIL SPAM CLASSIFICATION USING LOGISTIC REGRESSION , CNN ,NAIVE BAYES "
   ]
  },
  {
   "cell_type": "markdown",
   "metadata": {},
   "source": [
    "APPLICATION : Identify an eamil is spam or not\n"
   ]
  },
  {
   "cell_type": "markdown",
   "metadata": {},
   "source": [
    "AJAY KUMAR GAUTAM ||IITG||SPML||"
   ]
  },
  {
   "cell_type": "code",
   "execution_count": 1,
   "metadata": {},
   "outputs": [],
   "source": [
    "#Importing the Library \n",
    "import numpy as np \n",
    "import pandas as pd\n",
    "import string \n",
    "from sklearn.linear_model import LogisticRegression\n",
    "from sklearn.metrics import accuracy_score\n",
    "from sklearn.feature_extraction.text import TfidfVectorizer\n",
    "from sklearn.model_selection import train_test_split"
   ]
  },
  {
   "cell_type": "markdown",
   "metadata": {},
   "source": [
    "# 1. LOGISTIC REGRESSION"
   ]
  },
  {
   "cell_type": "code",
   "execution_count": 2,
   "metadata": {},
   "outputs": [
    {
     "name": "stdout",
     "output_type": "stream",
     "text": [
      "Accuracy is: 0.9597989949748744\n"
     ]
    },
    {
     "name": "stderr",
     "output_type": "stream",
     "text": [
      "C:\\Users\\ajayg\\anaconda3\\lib\\site-packages\\sklearn\\utils\\validation.py:68: FutureWarning: Pass input=english as keyword args. From version 0.25 passing these as positional arguments will result in an error\n",
      "  warnings.warn(\"Pass {} as keyword args. From version 0.25 \"\n"
     ]
    }
   ],
   "source": [
    "# Reading the dataset \n",
    "df = pd.read_csv('C:/data/spam.csv',encoding = 'ISO-8859-1')\n",
    "#df.head()\n",
    "df = df.drop(['Unnamed: 2', 'Unnamed: 3', 'Unnamed: 4'], axis = 1)\n",
    "df = df.rename(columns = {'v1':'Spam/Not_Spam','v2':'email'})\n",
    "df.groupby('Spam/Not_Spam').describe()\n",
    "df_copy = df['email'].copy()\n",
    "#df_copy\n",
    "# Removing Punctuation from dataframe\n",
    "def remove_punctuation(x):\n",
    "    try:\n",
    "        x = x.str.replace('[^\\w\\s]','')\n",
    "    except:\n",
    "        pass \n",
    "    return x\n",
    "df_copy = df_copy.apply(remove_punctuation)\n",
    "#df_copy\n",
    "vectorizer = TfidfVectorizer(\"english\")\n",
    "email_mat = vectorizer.fit_transform(df_copy)\n",
    "email_train, email_test, spam_nospam_train, spam_nospam_test = train_test_split(email_mat, \n",
    "                                                        df['Spam/Not_Spam'], test_size=0.25, random_state=50)\n",
    "Email_Spam_model = LogisticRegression(solver='liblinear', penalty='l1')\n",
    "Email_Spam_model.fit(email_train, spam_nospam_train)\n",
    "pred = Email_Spam_model.predict(email_test)\n",
    "print('Accuracy is:',accuracy_score(spam_nospam_test,pred))\n",
    "\n"
   ]
  },
  {
   "cell_type": "markdown",
   "metadata": {},
   "source": [
    "# 2.CNN"
   ]
  },
  {
   "cell_type": "code",
   "execution_count": 3,
   "metadata": {},
   "outputs": [],
   "source": [
    "import tensorflow as tf\n",
    "from tensorflow.keras.models import Model\n",
    "from tensorflow.keras.layers import Dense, Embedding, Input, Conv1D, MaxPooling1D, GlobalMaxPooling1D\n",
    "import numpy as np\n",
    "import pandas as pd\n",
    "import matplotlib.pyplot as plt\n",
    "from sklearn.model_selection import train_test_split\n",
    "from tensorflow.keras.preprocessing.text import Tokenizer\n",
    "from tensorflow.keras.preprocessing.sequence import pad_sequences"
   ]
  },
  {
   "cell_type": "code",
   "execution_count": 4,
   "metadata": {},
   "outputs": [
    {
     "data": {
      "text/html": [
       "<div>\n",
       "<style scoped>\n",
       "    .dataframe tbody tr th:only-of-type {\n",
       "        vertical-align: middle;\n",
       "    }\n",
       "\n",
       "    .dataframe tbody tr th {\n",
       "        vertical-align: top;\n",
       "    }\n",
       "\n",
       "    .dataframe thead th {\n",
       "        text-align: right;\n",
       "    }\n",
       "</style>\n",
       "<table border=\"1\" class=\"dataframe\">\n",
       "  <thead>\n",
       "    <tr style=\"text-align: right;\">\n",
       "      <th></th>\n",
       "      <th>v1</th>\n",
       "      <th>v2</th>\n",
       "      <th>Unnamed: 2</th>\n",
       "      <th>Unnamed: 3</th>\n",
       "      <th>Unnamed: 4</th>\n",
       "    </tr>\n",
       "  </thead>\n",
       "  <tbody>\n",
       "    <tr>\n",
       "      <th>0</th>\n",
       "      <td>ham</td>\n",
       "      <td>Go until jurong point, crazy.. Available only ...</td>\n",
       "      <td>NaN</td>\n",
       "      <td>NaN</td>\n",
       "      <td>NaN</td>\n",
       "    </tr>\n",
       "    <tr>\n",
       "      <th>1</th>\n",
       "      <td>ham</td>\n",
       "      <td>Ok lar... Joking wif u oni...</td>\n",
       "      <td>NaN</td>\n",
       "      <td>NaN</td>\n",
       "      <td>NaN</td>\n",
       "    </tr>\n",
       "    <tr>\n",
       "      <th>2</th>\n",
       "      <td>spam</td>\n",
       "      <td>Free entry in 2 a wkly comp to win FA Cup fina...</td>\n",
       "      <td>NaN</td>\n",
       "      <td>NaN</td>\n",
       "      <td>NaN</td>\n",
       "    </tr>\n",
       "    <tr>\n",
       "      <th>3</th>\n",
       "      <td>ham</td>\n",
       "      <td>U dun say so early hor... U c already then say...</td>\n",
       "      <td>NaN</td>\n",
       "      <td>NaN</td>\n",
       "      <td>NaN</td>\n",
       "    </tr>\n",
       "    <tr>\n",
       "      <th>4</th>\n",
       "      <td>ham</td>\n",
       "      <td>Nah I don't think he goes to usf, he lives aro...</td>\n",
       "      <td>NaN</td>\n",
       "      <td>NaN</td>\n",
       "      <td>NaN</td>\n",
       "    </tr>\n",
       "  </tbody>\n",
       "</table>\n",
       "</div>"
      ],
      "text/plain": [
       "     v1                                                 v2 Unnamed: 2  \\\n",
       "0   ham  Go until jurong point, crazy.. Available only ...        NaN   \n",
       "1   ham                      Ok lar... Joking wif u oni...        NaN   \n",
       "2  spam  Free entry in 2 a wkly comp to win FA Cup fina...        NaN   \n",
       "3   ham  U dun say so early hor... U c already then say...        NaN   \n",
       "4   ham  Nah I don't think he goes to usf, he lives aro...        NaN   \n",
       "\n",
       "  Unnamed: 3 Unnamed: 4  \n",
       "0        NaN        NaN  \n",
       "1        NaN        NaN  \n",
       "2        NaN        NaN  \n",
       "3        NaN        NaN  \n",
       "4        NaN        NaN  "
      ]
     },
     "execution_count": 4,
     "metadata": {},
     "output_type": "execute_result"
    }
   ],
   "source": [
    "df = pd.read_csv('C:/data/spam.csv', encoding = 'ISO-8859-1')\n",
    "df.head()"
   ]
  },
  {
   "cell_type": "code",
   "execution_count": 5,
   "metadata": {},
   "outputs": [],
   "source": [
    "df = df.drop(['Unnamed: 2', 'Unnamed: 3', 'Unnamed: 4'], axis = 1)\n",
    "df = df.rename(columns = {'v1':'Spam/Not_Spam','v2':'email'})\n",
    "df.groupby('Spam/Not_Spam').describe()\n",
    "df_copy = df['email'].copy()"
   ]
  },
  {
   "cell_type": "code",
   "execution_count": 6,
   "metadata": {},
   "outputs": [],
   "source": [
    "df['Spam/Not_Spam'] = df['Spam/Not_Spam'].map({'ham' : 0, 'spam' : 1})\n",
    "y = df['Spam/Not_Spam'].values"
   ]
  },
  {
   "cell_type": "code",
   "execution_count": 7,
   "metadata": {},
   "outputs": [],
   "source": [
    "X_train, X_test, y_train, y_test = train_test_split(df['email'], y, test_size = 0.3)"
   ]
  },
  {
   "cell_type": "code",
   "execution_count": 8,
   "metadata": {},
   "outputs": [],
   "source": [
    "tokenizer = Tokenizer(num_words = 20000)\n",
    "tokenizer.fit_on_texts(X_train)\n",
    "train_seq = tokenizer.texts_to_sequences(X_train)\n",
    "test_seq = tokenizer.texts_to_sequences(X_test)"
   ]
  },
  {
   "cell_type": "code",
   "execution_count": 9,
   "metadata": {},
   "outputs": [
    {
     "name": "stdout",
     "output_type": "stream",
     "text": [
      "7333 number of tokens found\n"
     ]
    }
   ],
   "source": [
    "l = len(tokenizer.word_index)\n",
    "print(f'{l} number of tokens found')"
   ]
  },
  {
   "cell_type": "code",
   "execution_count": 10,
   "metadata": {},
   "outputs": [],
   "source": [
    "train_seq = pad_sequences(train_seq)\n",
    "test_seq = pad_sequences(test_seq, maxlen = train_seq.shape[1])"
   ]
  },
  {
   "cell_type": "code",
   "execution_count": 13,
   "metadata": {},
   "outputs": [],
   "source": [
    "i_p = Input(shape = (train_seq.shape[1],))\n",
    "o_p = Embedding(l+1, 25)(i_p)\n",
    "o_p = Conv1D(32, 3, activation = 'relu')(o_p)\n",
    "o_p = MaxPooling1D(3)(o_p)\n",
    "o_p = Conv1D(64, 3, activation = 'relu')(o_p)\n",
    "o_p = MaxPooling1D(3)(o_p)\n",
    "o_p = Conv1D(128, 3, activation = 'relu')(o_p)\n",
    "o_p = GlobalMaxPooling1D()(o_p)\n",
    "o_p = Dense(1, activation = 'sigmoid')(o_p)\n",
    "\n",
    "model = Model(i_p,o_p)"
   ]
  },
  {
   "cell_type": "code",
   "execution_count": 14,
   "metadata": {},
   "outputs": [],
   "source": [
    "model.compile(optimizer = 'adam', loss = 'binary_crossentropy', metrics = ['accuracy'])"
   ]
  },
  {
   "cell_type": "code",
   "execution_count": 15,
   "metadata": {},
   "outputs": [
    {
     "name": "stdout",
     "output_type": "stream",
     "text": [
      "Epoch 1/10\n",
      "122/122 [==============================] - 5s 26ms/step - loss: 0.3810 - accuracy: 0.8638 - val_loss: 0.2642 - val_accuracy: 0.8642\n",
      "Epoch 2/10\n",
      "122/122 [==============================] - 3s 25ms/step - loss: 0.1293 - accuracy: 0.9459 - val_loss: 0.0606 - val_accuracy: 0.9850\n",
      "Epoch 3/10\n",
      "122/122 [==============================] - 2s 19ms/step - loss: 0.0263 - accuracy: 0.9933 - val_loss: 0.0477 - val_accuracy: 0.9868\n",
      "Epoch 4/10\n",
      "122/122 [==============================] - 2s 19ms/step - loss: 0.0089 - accuracy: 0.9979 - val_loss: 0.0547 - val_accuracy: 0.9868\n",
      "Epoch 5/10\n",
      "122/122 [==============================] - 3s 24ms/step - loss: 0.0037 - accuracy: 0.9997 - val_loss: 0.0510 - val_accuracy: 0.9874\n",
      "Epoch 6/10\n",
      "122/122 [==============================] - 3s 27ms/step - loss: 0.0024 - accuracy: 0.9997 - val_loss: 0.0690 - val_accuracy: 0.9874\n",
      "Epoch 7/10\n",
      "122/122 [==============================] - 3s 27ms/step - loss: 0.0016 - accuracy: 0.9997 - val_loss: 0.0698 - val_accuracy: 0.9868\n",
      "Epoch 8/10\n",
      "122/122 [==============================] - 3s 27ms/step - loss: 0.0012 - accuracy: 0.9997 - val_loss: 0.0668 - val_accuracy: 0.9874\n",
      "Epoch 9/10\n",
      "122/122 [==============================] - 2s 20ms/step - loss: 9.3988e-04 - accuracy: 0.9997 - val_loss: 0.0741 - val_accuracy: 0.9868\n",
      "Epoch 10/10\n",
      "122/122 [==============================] - 2s 16ms/step - loss: 9.6939e-04 - accuracy: 0.9997 - val_loss: 0.0716 - val_accuracy: 0.9874\n"
     ]
    }
   ],
   "source": [
    "r = model.fit(train_seq , y_train, validation_data = (test_seq , y_test), epochs = 10)"
   ]
  },
  {
   "cell_type": "code",
   "execution_count": 16,
   "metadata": {},
   "outputs": [],
   "source": [
    "def history_plot(model, argument):\n",
    "    plt.plot(model.history[argument], label = argument)\n",
    "    plt.plot(model.history['val_'+argument], label = 'validation '+argument)\n",
    "    plt.legend()\n",
    "    plt.xlabel('Epochs')\n",
    "    plt.ylabel(argument)\n",
    "    plt.title(argument)"
   ]
  },
  {
   "cell_type": "code",
   "execution_count": 17,
   "metadata": {},
   "outputs": [
    {
     "data": {
      "image/png": "[encoded data removed]",
      "text/plain": [
       "<Figure size 432x288 with 1 Axes>"
      ]
     },
     "metadata": {
      "needs_background": "light"
     },
     "output_type": "display_data"
    }
   ],
   "source": [
    "history_plot(r, 'loss')"
   ]
  },
  {
   "cell_type": "code",
   "execution_count": 18,
   "metadata": {},
   "outputs": [
    {
     "data": {
      "image/png": "[encoded data removed]",
      "text/plain": [
       "<Figure size 432x288 with 1 Axes>"
      ]
     },
     "metadata": {
      "needs_background": "light"
     },
     "output_type": "display_data"
    }
   ],
   "source": [
    "\n",
    "history_plot(r, 'accuracy')"
   ]
  },
  {
   "cell_type": "markdown",
   "metadata": {},
   "source": [
    "# 3 . NAIVE BAYES CLASSIFIER"
   ]
  },
  {
   "cell_type": "code",
   "execution_count": 19,
   "metadata": {},
   "outputs": [
    {
     "name": "stderr",
     "output_type": "stream",
     "text": [
      "C:\\Users\\ajayg\\anaconda3\\lib\\site-packages\\sklearn\\utils\\validation.py:68: FutureWarning: Pass input=english as keyword args. From version 0.25 passing these as positional arguments will result in an error\n",
      "  warnings.warn(\"Pass {} as keyword args. From version 0.25 \"\n"
     ]
    }
   ],
   "source": [
    "from sklearn.naive_bayes import MultinomialNB\n",
    "df = pd.read_csv('C:/data/spam.csv',encoding = 'ISO-8859-1')\n",
    "#df.head()\n",
    "df = df.drop(['Unnamed: 2', 'Unnamed: 3', 'Unnamed: 4'], axis = 1)\n",
    "df = df.rename(columns = {'v1':'Spam/Not_Spam','v2':'email'})\n",
    "df.groupby('Spam/Not_Spam').describe()\n",
    "df_copy = df['email'].copy()\n",
    "#df_copy\n",
    "# Removing Punctuation from dataframe\n",
    "def remove_punctuation(x):\n",
    "    try:\n",
    "        x = x.str.replace('[^\\w\\s]','')\n",
    "    except:\n",
    "        pass \n",
    "    return x\n",
    "df_copy = df_copy.apply(remove_punctuation)\n",
    "#df_copy\n",
    "vectorizer = TfidfVectorizer(\"english\")\n",
    "email_mat = vectorizer.fit_transform(df_copy)\n",
    "email_train, email_test, spam_nospam_train, spam_nospam_test = train_test_split(email_mat, \n",
    "                                                        df['Spam/Not_Spam'], test_size=0.25, random_state=50)"
   ]
  },
  {
   "cell_type": "raw",
   "metadata": {},
   "source": [
    "classifier = MultinomialNB()\n",
    "classifier.fit(email_train, spam_nospam_train)"
   ]
  },
  {
   "cell_type": "code",
   "execution_count": 20,
   "metadata": {},
   "outputs": [
    {
     "name": "stdout",
     "output_type": "stream",
     "text": [
      "Accuracy is: 0.9597989949748744\n"
     ]
    }
   ],
   "source": [
    "pred = Email_Spam_model.predict(email_test)\n",
    "print('Accuracy is:',accuracy_score(spam_nospam_test,pred))"
   ]
  },
  {
   "cell_type": "code",
   "execution_count": null,
   "metadata": {},
   "outputs": [],
   "source": []
  }
 ],
 "metadata": {
  "kernelspec": {
   "display_name": "Python 3",
   "language": "python",
   "name": "python3"
  },
  "language_info": {
   "codemirror_mode": {
    "name": "ipython",
    "version": 3
   },
   "file_extension": ".py",
   "mimetype": "text/x-python",
   "name": "python",
   "nbconvert_exporter": "python",
   "pygments_lexer": "ipython3",
   "version": "3.8.3"
  }
 },
 "nbformat": 4,
 "nbformat_minor": 4
}
